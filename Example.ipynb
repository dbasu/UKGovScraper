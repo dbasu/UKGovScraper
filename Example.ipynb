{
 "cells": [
  {
   "cell_type": "code",
   "execution_count": null,
   "metadata": {},
   "outputs": [
    {
     "name": "stdout",
     "output_type": "stream",
     "text": [
      "The autoreload extension is already loaded. To reload it, use:\n",
      "  %reload_ext autoreload\n"
     ]
    },
    {
     "name": "stderr",
     "output_type": "stream",
     "text": [
      "2025-03-19 14:16:41,003 - INFO - Page 1 saved.\n"
     ]
    }
   ],
   "source": [
    "%load_ext autoreload\n",
    "from URLCreator import URLCreator\n",
    "from UKGovScraper import UKGovScraper\n",
    "%autoreload 2\n",
    "\n",
    "settings = {'search_terms': ['electric vehicle', 'funding amount'], \n",
    "          'order': 'updated-newest', \n",
    "          'start': '2025-03-01', \n",
    "        #   'end': '2024-12-31', \n",
    "          'organisations': ['office-for-zero-emission-vehicles']}\n",
    "\n",
    "s = UKGovScraper(dir = './data/')\n",
    "search_results = s.scrape(settings)\n",
    "for result in search_results:\n",
    "    print(result)"
   ]
  },
  {
   "cell_type": "code",
   "execution_count": 2,
   "metadata": {},
   "outputs": [
    {
     "name": "stdout",
     "output_type": "stream",
     "text": [
      "Requirement already satisfied: beautifulsoup4 in /Users/debarshibasu/bin/anaconda3/lib/python3.11/site-packages (4.12.2)\n",
      "Requirement already satisfied: soupsieve>1.2 in /Users/debarshibasu/bin/anaconda3/lib/python3.11/site-packages (from beautifulsoup4) (2.5)\n"
     ]
    }
   ],
   "source": [
    "!pip install beautifulsoup4"
   ]
  }
 ],
 "metadata": {
  "kernelspec": {
   "display_name": "base",
   "language": "python",
   "name": "python3"
  },
  "language_info": {
   "codemirror_mode": {
    "name": "ipython",
    "version": 3
   },
   "file_extension": ".py",
   "mimetype": "text/x-python",
   "name": "python",
   "nbconvert_exporter": "python",
   "pygments_lexer": "ipython3",
   "version": "3.11.6"
  }
 },
 "nbformat": 4,
 "nbformat_minor": 2
}
