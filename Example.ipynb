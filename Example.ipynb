{
 "cells": [
  {
   "cell_type": "code",
   "execution_count": 56,
   "metadata": {},
   "outputs": [
    {
     "name": "stdout",
     "output_type": "stream",
     "text": [
      "The autoreload extension is already loaded. To reload it, use:\n",
      "  %reload_ext autoreload\n"
     ]
    }
   ],
   "source": [
    "%load_ext autoreload\n",
    "from URLCreator import URLCreator\n",
    "from UKGovScraper import UKGovScraper\n",
    "%autoreload 2\n",
    "\n",
    "settings = {'search_terms': ['electric vehicle', 'funding amount', 'chargepoint'], \n",
    "          'order': 'updated-newest', \n",
    "          'start': '2025-03-01', \n",
    "        #   'end': '2024-12-31', \n",
    "          'organisations': ['office-for-zero-emission-vehicles']}\n",
    "\n",
    "s = UKGovScraper(dir = './data/')\n"
   ]
  },
  {
   "cell_type": "code",
   "execution_count": null,
   "metadata": {},
   "outputs": [
    {
     "name": "stderr",
     "output_type": "stream",
     "text": [
      "2025-03-19 16:15:05,234 - INFO - Page 1 saved.\n",
      "2025-03-19 16:15:05,267 - INFO - 2025-03-17\n",
      "2025-03-19 16:15:05,267 - INFO - Residential and commercial chargepoints eligible for electric vehicle chargepoint grants.\n",
      "2025-03-19 16:15:05,268 - INFO - Eligible EV chargepoint model list\n",
      "2025-03-19 16:15:05,268 - INFO - https://www.gov.uk/government/publications/authorised-chargepoint-model-list\n",
      "2025-03-19 16:15:05,268 - INFO - 2025-03-13\n",
      "2025-03-19 16:15:05,269 - INFO - List of vehicles eligible for OZEV residential chargepoint grants.\n",
      "2025-03-19 16:15:05,269 - INFO - Residential chargepoints: eligible vehicles\n",
      "2025-03-19 16:15:05,269 - INFO - https://www.gov.uk/government/publications/residential-chargepoints-eligible-vehicles\n",
      "2025-03-19 16:15:05,270 - INFO - 2025-03-12\n",
      "2025-03-19 16:15:05,270 - INFO - Electric vehicle charging infrastructure statistics, including publicly available devices and grants provided by the Office for Zero Emission Vehicles (OZEV).\n",
      "2025-03-19 16:15:05,270 - INFO - Electric vehicle charging infrastructure statistics\n",
      "2025-03-19 16:15:05,271 - INFO - https://www.gov.uk/government/collections/electric-vehicle-charging-infrastructure-statistics\n",
      "2025-03-19 16:15:05,271 - INFO - 2025-03-12\n",
      "2025-03-19 16:15:05,272 - INFO - Government is investing over £2.3 billion to ensure number of chargers will continue to grow, giving people the confidence to switch to EVs.\n",
      "2025-03-19 16:15:05,272 - INFO - Public chargepoints in the UK hit 75,000 milestone\n",
      "2025-03-19 16:15:05,272 - INFO - https://www.gov.uk/government/news/public-chargepoints-in-the-uk-hit-75000-milestone\n",
      "2025-03-19 16:15:05,273 - INFO - 2025-03-05\n",
      "2025-03-19 16:15:05,273 - INFO - Guidance for local authorities with live projects to deliver on-street residential chargepoints for plug-in electric vehicles.\n",
      "2025-03-19 16:15:05,273 - INFO - On-Street Residential Chargepoint Scheme guidance for local authorities\n",
      "2025-03-19 16:15:05,274 - INFO - https://www.gov.uk/government/publications/grants-for-local-authorities-to-provide-residential-on-street-chargepoints\n",
      "2025-03-19 16:15:05,274 - INFO - 2025-03-05\n",
      "2025-03-19 16:15:05,274 - INFO - On-Street Residential Chargepoint Scheme guidance for local authorities\n",
      "2025-03-19 16:15:05,275 - INFO - https://www.gov.uk/government/publications/grants-for-local-authorities-to-provide-residential-on-street-chargepoints/on-street-residential-chargepoint-scheme-guidance-for-local-authorities\n"
     ]
    }
   ],
   "source": [
    "search_results = s.scrape(settings)"
   ]
  },
  {
   "cell_type": "markdown",
   "metadata": {},
   "source": [
    "The pages (results) are saved in the 'dir' directory\n",
    "\n",
    "You can use the ``` get_links ``` function to extract the results later \n",
    "\n",
    "The ``` get_links ``` function of the scraper object return a json string.\n",
    "\n",
    "You can convert it to a dataframe and save the results\n"
   ]
  },
  {
   "cell_type": "code",
   "execution_count": 58,
   "metadata": {},
   "outputs": [
    {
     "name": "stderr",
     "output_type": "stream",
     "text": [
      "2025-03-19 16:15:16,302 - INFO - 2025-03-17\n",
      "2025-03-19 16:15:16,303 - INFO - Residential and commercial chargepoints eligible for electric vehicle chargepoint grants.\n",
      "2025-03-19 16:15:16,303 - INFO - Eligible EV chargepoint model list\n",
      "2025-03-19 16:15:16,303 - INFO - https://www.gov.uk/government/publications/authorised-chargepoint-model-list\n",
      "2025-03-19 16:15:16,304 - INFO - 2025-03-13\n",
      "2025-03-19 16:15:16,304 - INFO - List of vehicles eligible for OZEV residential chargepoint grants.\n",
      "2025-03-19 16:15:16,304 - INFO - Residential chargepoints: eligible vehicles\n",
      "2025-03-19 16:15:16,305 - INFO - https://www.gov.uk/government/publications/residential-chargepoints-eligible-vehicles\n",
      "2025-03-19 16:15:16,305 - INFO - 2025-03-12\n",
      "2025-03-19 16:15:16,305 - INFO - Electric vehicle charging infrastructure statistics, including publicly available devices and grants provided by the Office for Zero Emission Vehicles (OZEV).\n",
      "2025-03-19 16:15:16,306 - INFO - Electric vehicle charging infrastructure statistics\n",
      "2025-03-19 16:15:16,306 - INFO - https://www.gov.uk/government/collections/electric-vehicle-charging-infrastructure-statistics\n",
      "2025-03-19 16:15:16,306 - INFO - 2025-03-12\n",
      "2025-03-19 16:15:16,307 - INFO - Government is investing over £2.3 billion to ensure number of chargers will continue to grow, giving people the confidence to switch to EVs.\n",
      "2025-03-19 16:15:16,307 - INFO - Public chargepoints in the UK hit 75,000 milestone\n",
      "2025-03-19 16:15:16,308 - INFO - https://www.gov.uk/government/news/public-chargepoints-in-the-uk-hit-75000-milestone\n",
      "2025-03-19 16:15:16,308 - INFO - 2025-03-05\n",
      "2025-03-19 16:15:16,308 - INFO - Guidance for local authorities with live projects to deliver on-street residential chargepoints for plug-in electric vehicles.\n",
      "2025-03-19 16:15:16,308 - INFO - On-Street Residential Chargepoint Scheme guidance for local authorities\n",
      "2025-03-19 16:15:16,309 - INFO - https://www.gov.uk/government/publications/grants-for-local-authorities-to-provide-residential-on-street-chargepoints\n",
      "2025-03-19 16:15:16,309 - INFO - 2025-03-05\n",
      "2025-03-19 16:15:16,309 - INFO - On-Street Residential Chargepoint Scheme guidance for local authorities\n",
      "2025-03-19 16:15:16,310 - INFO - https://www.gov.uk/government/publications/grants-for-local-authorities-to-provide-residential-on-street-chargepoints/on-street-residential-chargepoint-scheme-guidance-for-local-authorities\n"
     ]
    }
   ],
   "source": [
    "from bs4 import BeautifulSoup\n",
    "with open('data/page1.html', 'r') as file:\n",
    "    content = file.read()\n",
    "soup = BeautifulSoup(content, 'html.parser')\n",
    "\n",
    "links = s.get_links(soup)"
   ]
  },
  {
   "cell_type": "code",
   "execution_count": null,
   "metadata": {},
   "outputs": [],
   "source": [
    "import json\n",
    "import pandas as pd\n",
    "data = json.loads(search_results)\n",
    "df = pd.DataFrame(data=data, columns=['Date', \"Title\", \"Short_Description\", \"Link\"])\n",
    "df.to_csv('./data/search_results.csv', index=False)"
   ]
  },
  {
   "cell_type": "code",
   "execution_count": 67,
   "metadata": {},
   "outputs": [
    {
     "data": {
      "text/html": [
       "<div>\n",
       "<style scoped>\n",
       "    .dataframe tbody tr th:only-of-type {\n",
       "        vertical-align: middle;\n",
       "    }\n",
       "\n",
       "    .dataframe tbody tr th {\n",
       "        vertical-align: top;\n",
       "    }\n",
       "\n",
       "    .dataframe thead th {\n",
       "        text-align: right;\n",
       "    }\n",
       "</style>\n",
       "<table border=\"1\" class=\"dataframe\">\n",
       "  <thead>\n",
       "    <tr style=\"text-align: right;\">\n",
       "      <th></th>\n",
       "      <th>Date</th>\n",
       "      <th>Title</th>\n",
       "      <th>Short_Description</th>\n",
       "      <th>Link</th>\n",
       "    </tr>\n",
       "  </thead>\n",
       "  <tbody>\n",
       "    <tr>\n",
       "      <th>0</th>\n",
       "      <td>2025-03-17</td>\n",
       "      <td>Eligible EV chargepoint model list</td>\n",
       "      <td>Residential and commercial chargepoints eligib...</td>\n",
       "      <td>https://www.gov.uk/government/publications/aut...</td>\n",
       "    </tr>\n",
       "    <tr>\n",
       "      <th>1</th>\n",
       "      <td>2025-03-13</td>\n",
       "      <td>Residential chargepoints: eligible vehicles</td>\n",
       "      <td>List of vehicles eligible for OZEV residential...</td>\n",
       "      <td>https://www.gov.uk/government/publications/res...</td>\n",
       "    </tr>\n",
       "    <tr>\n",
       "      <th>2</th>\n",
       "      <td>2025-03-12</td>\n",
       "      <td>Electric vehicle charging infrastructure stati...</td>\n",
       "      <td>Electric vehicle charging infrastructure stati...</td>\n",
       "      <td>https://www.gov.uk/government/collections/elec...</td>\n",
       "    </tr>\n",
       "    <tr>\n",
       "      <th>3</th>\n",
       "      <td>2025-03-12</td>\n",
       "      <td>Public chargepoints in the UK hit 75,000 miles...</td>\n",
       "      <td>Government is investing over £2.3 billion to e...</td>\n",
       "      <td>https://www.gov.uk/government/news/public-char...</td>\n",
       "    </tr>\n",
       "    <tr>\n",
       "      <th>4</th>\n",
       "      <td>2025-03-05</td>\n",
       "      <td>On-Street Residential Chargepoint Scheme guida...</td>\n",
       "      <td>Guidance for local authorities with live proje...</td>\n",
       "      <td>https://www.gov.uk/government/publications/gra...</td>\n",
       "    </tr>\n",
       "    <tr>\n",
       "      <th>5</th>\n",
       "      <td>2025-03-05</td>\n",
       "      <td>On-Street Residential Chargepoint Scheme guida...</td>\n",
       "      <td>None</td>\n",
       "      <td>https://www.gov.uk/government/publications/gra...</td>\n",
       "    </tr>\n",
       "  </tbody>\n",
       "</table>\n",
       "</div>"
      ],
      "text/plain": [
       "         Date                                              Title  \\\n",
       "0  2025-03-17                 Eligible EV chargepoint model list   \n",
       "1  2025-03-13        Residential chargepoints: eligible vehicles   \n",
       "2  2025-03-12  Electric vehicle charging infrastructure stati...   \n",
       "3  2025-03-12  Public chargepoints in the UK hit 75,000 miles...   \n",
       "4  2025-03-05  On-Street Residential Chargepoint Scheme guida...   \n",
       "5  2025-03-05  On-Street Residential Chargepoint Scheme guida...   \n",
       "\n",
       "                                   Short_Description  \\\n",
       "0  Residential and commercial chargepoints eligib...   \n",
       "1  List of vehicles eligible for OZEV residential...   \n",
       "2  Electric vehicle charging infrastructure stati...   \n",
       "3  Government is investing over £2.3 billion to e...   \n",
       "4  Guidance for local authorities with live proje...   \n",
       "5                                               None   \n",
       "\n",
       "                                                Link  \n",
       "0  https://www.gov.uk/government/publications/aut...  \n",
       "1  https://www.gov.uk/government/publications/res...  \n",
       "2  https://www.gov.uk/government/collections/elec...  \n",
       "3  https://www.gov.uk/government/news/public-char...  \n",
       "4  https://www.gov.uk/government/publications/gra...  \n",
       "5  https://www.gov.uk/government/publications/gra...  "
      ]
     },
     "execution_count": 67,
     "metadata": {},
     "output_type": "execute_result"
    }
   ],
   "source": [
    "df"
   ]
  }
 ],
 "metadata": {
  "kernelspec": {
   "display_name": "base",
   "language": "python",
   "name": "python3"
  },
  "language_info": {
   "codemirror_mode": {
    "name": "ipython",
    "version": 3
   },
   "file_extension": ".py",
   "mimetype": "text/x-python",
   "name": "python",
   "nbconvert_exporter": "python",
   "pygments_lexer": "ipython3",
   "version": "3.11.6"
  }
 },
 "nbformat": 4,
 "nbformat_minor": 2
}
