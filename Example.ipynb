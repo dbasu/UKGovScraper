{
 "cells": [
  {
   "cell_type": "code",
   "execution_count": null,
   "metadata": {},
   "outputs": [],
   "source": [
    "from URLCreator import URLCreator\n",
    "from UKGovScraper import UKGovScraper\n",
    "\n",
    "settings = {'search_terms': ['electric vehicle', 'funding amount'], \n",
    "          'order': 'updated-newest', \n",
    "          'start': '2025-03-01', \n",
    "        #   'end': '2024-12-31', \n",
    "          'organisations': ['office-for-zero-emission-vehicles']}\n",
    "\n",
    "s = UKGovScraper()\n",
    "search_results = s.scrape(settings)\n",
    "for result in search_results:\n",
    "    print(result)"
   ]
  }
 ],
 "metadata": {
  "language_info": {
   "name": "python"
  }
 },
 "nbformat": 4,
 "nbformat_minor": 2
}
